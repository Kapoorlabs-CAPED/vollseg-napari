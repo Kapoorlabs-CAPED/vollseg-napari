{
 "cells": [
  {
   "cell_type": "code",
   "execution_count": 1,
   "metadata": {
    "executionInfo": {
     "elapsed": 1890,
     "status": "ok",
     "timestamp": 1647342395130,
     "user": {
      "displayName": "kapoorlabs_intern berlin",
      "photoUrl": "https://lh3.googleusercontent.com/a/default-user=s64",
      "userId": "12453078597240373700"
     },
     "user_tz": -60
    },
    "id": "CuRh3s3OD_O_"
   },
   "outputs": [],
   "source": [
    "import numpy as np\n",
    "from tifffile import imread \n",
    "from pathlib import Path\n",
    "from glob import glob\n",
    "from tqdm import tqdm\n",
    "from skimage.measure import label\n",
    "import matplotlib.pyplot as plt\n",
    "from stardist import fill_label_holes\n",
    "from skimage.metrics import structural_similarity as ssim\n",
    "from skimage.metrics import  normalized_root_mse as mse\n",
    "import numpy as np\n",
    "from skimage.measure import regionprops\n",
    "import csv\n",
    "from numba import jit\n",
    "from tqdm import tqdm\n",
    "from scipy.optimize import linear_sum_assignment\n",
    "from collections import namedtuple\n",
    "from csbdeep.utils import _raise\n",
    "import seaborn as sns"
   ]
  },
  {
   "cell_type": "code",
   "execution_count": 2,
   "metadata": {
    "executionInfo": {
     "elapsed": 657,
     "status": "ok",
     "timestamp": 1647342395785,
     "user": {
      "displayName": "kapoorlabs_intern berlin",
      "photoUrl": "https://lh3.googleusercontent.com/a/default-user=s64",
      "userId": "12453078597240373700"
     },
     "user_tz": -60
    },
    "id": "43_D29CoD_O_"
   },
   "outputs": [],
   "source": [
    "def MakeBinary(labelimage):\n",
    "    \n",
    "    Binary = labelimage > 0\n",
    "    return Binary\n",
    "\n",
    "matching_criteria = dict()\n",
    "\n",
    "def label_are_sequential(y):\n",
    "    \"\"\" returns true if y has only sequential labels from 1... \"\"\"\n",
    "    labels = np.unique(y)\n",
    "    return (set(labels)-{0}) == set(range(1,1+labels.max()))\n",
    "\n",
    "\n",
    "def is_array_of_integers(y):\n",
    "    return isinstance(y,np.ndarray) and np.issubdtype(y.dtype, np.integer)\n",
    "\n",
    "\n",
    "def _check_label_array(y, name=None, check_sequential=False):\n",
    "    err = ValueError(\"{label} must be an array of {integers}.\".format(\n",
    "        label = 'labels' if name is None else name,\n",
    "        integers = ('sequential ' if check_sequential else '') + 'non-negative integers',\n",
    "    ))\n",
    "    is_array_of_integers(y) or _raise(err)\n",
    "    if check_sequential:\n",
    "        label_are_sequential(y) or _raise(err)\n",
    "    else:\n",
    "        y.min() >= 0 or _raise(err)\n",
    "    return True\n",
    "\n",
    "\n",
    "def label_overlap(x, y, check=True):\n",
    "    if check:\n",
    "        _check_label_array(x,'x',True)\n",
    "        _check_label_array(y,'y',True)\n",
    "        x.shape == y.shape or _raise(ValueError(\"x and y must have the same shape\"))\n",
    "    return _label_overlap(x, y)\n",
    "\n",
    "@jit(nopython=True)\n",
    "def _label_overlap(x, y):\n",
    "    x = x.ravel()\n",
    "    y = y.ravel()\n",
    "    overlap = np.zeros((1+x.max(),1+y.max()), dtype=np.uint)\n",
    "    for i in range(len(x)):\n",
    "        overlap[x[i],y[i]] += 1\n",
    "    return overlap\n",
    "\n",
    "def get_ssim(x,y):\n",
    "    \n",
    "    similarity = mse(x,y)\n",
    "    \n",
    "    return similarity\n",
    "def intersection_over_union(overlap):\n",
    "    _check_label_array(overlap,'overlap')\n",
    "    if np.sum(overlap) == 0:\n",
    "        return overlap\n",
    "    n_pixels_pred = np.sum(overlap, axis=0, keepdims=True)\n",
    "    n_pixels_true = np.sum(overlap, axis=1, keepdims=True)\n",
    "    return overlap / (n_pixels_pred + n_pixels_true - overlap)\n",
    "\n",
    "matching_criteria['iou'] = intersection_over_union\n",
    "\n",
    "\n",
    "def intersection_over_true(overlap):\n",
    "    _check_label_array(overlap,'overlap')\n",
    "    if np.sum(overlap) == 0:\n",
    "        return overlap\n",
    "    n_pixels_true = np.sum(overlap, axis=1, keepdims=True)\n",
    "    return overlap / n_pixels_true\n",
    "\n",
    "matching_criteria['iot'] = intersection_over_true\n",
    "\n",
    "\n",
    "def intersection_over_pred(overlap):\n",
    "    _check_label_array(overlap,'overlap')\n",
    "    if np.sum(overlap) == 0:\n",
    "        return overlap\n",
    "    n_pixels_pred = np.sum(overlap, axis=0, keepdims=True)\n",
    "    return overlap / n_pixels_pred\n",
    "\n",
    "matching_criteria['iop'] = intersection_over_pred\n",
    "\n",
    "\n",
    "def precision(tp,fp,fn):\n",
    "    return tp/(tp+fp) if tp > 0 else 0\n",
    "def recall(tp,fp,fn):\n",
    "    return tp/(tp+fn) if tp > 0 else 0\n",
    "def accuracy(tp,fp,fn):\n",
    "    # also known as \"average precision\" (?)\n",
    "    # -> https://www.kaggle.com/c/data-science-bowl-2018#evaluation\n",
    "    return tp/(tp+fp+fn) if tp > 0 else 0\n",
    "def f1(tp,fp,fn):\n",
    "    # also known as \"dice coefficient\"\n",
    "    return (2*tp)/(2*tp+fp+fn) if tp > 0 else 0\n",
    "\n",
    "\n",
    "def _safe_divide(x,y):\n",
    "    return x/y if y>0 else 0.0\n",
    "\n",
    "def matching(y_true, y_pred, thresh=0.5, criterion='iot', report_matches=False):\n",
    "    \"\"\"Calculate detection/instance segmentation metrics between ground truth and predicted label images.\n",
    "    Currently, the following metrics are implemented:\n",
    "    'fp', 'tp', 'fn', 'precision', 'recall', 'accuracy', 'f1', 'criterion', 'thresh', 'n_true', 'n_pred', 'mean_true_score', 'mean_matched_score', 'panoptic_quality'\n",
    "    Corresponding objects of y_true and y_pred are counted as true positives (tp), false positives (fp), and false negatives (fn)\n",
    "    whether their intersection over union (IoU) >= thresh (for criterion='iou', which can be changed)\n",
    "    * mean_matched_score is the mean IoUs of matched true positives\n",
    "    * mean_true_score is the mean IoUs of matched true positives but normalized by the total number of GT objects\n",
    "    * panoptic_quality defined as in Eq. 1 of Kirillov et al. \"Panoptic Segmentation\", CVPR 2019\n",
    "    Parameters\n",
    "    ----------\n",
    "    y_true: ndarray\n",
    "        ground truth label image (integer valued)\n",
    "        predicted label image (integer valued)\n",
    "    thresh: float\n",
    "        threshold for matching criterion (default 0.5)\n",
    "    criterion: string\n",
    "        matching criterion (default IoU)\n",
    "    report_matches: bool\n",
    "        if True, additionally calculate matched_pairs and matched_scores (note, that this returns even gt-pred pairs whose scores are below  'thresh')\n",
    "    Returns\n",
    "    -------\n",
    "    Matching object with different metrics as attributes\n",
    "    Examples\n",
    "    --------\n",
    "    >>> y_true = np.zeros((100,100), np.uint16)\n",
    "    >>> y_true[10:20,10:20] = 1\n",
    "    >>> y_pred = np.roll(y_true,5,axis = 0)\n",
    "    >>> stats = matching(y_true, y_pred)\n",
    "    >>> print(stats)\n",
    "    Matching(criterion='iou', thresh=0.5, fp=1, tp=0, fn=1, precision=0, recall=0, accuracy=0, f1=0, n_true=1, n_pred=1, mean_true_score=0.0, mean_matched_score=0.0, panoptic_quality=0.0)\n",
    "    \"\"\"\n",
    "    _check_label_array(y_true,'y_true')\n",
    "    _check_label_array(y_pred,'y_pred')\n",
    "    y_true.shape == y_pred.shape or _raise(ValueError(\"y_true ({y_true.shape}) and y_pred ({y_pred.shape}) have different shapes\".format(y_true=y_true, y_pred=y_pred)))\n",
    "    criterion in matching_criteria or _raise(ValueError(\"Matching criterion '%s' not supported.\" % criterion))\n",
    "    if thresh is None: thresh = 0\n",
    "    thresh = float(thresh) if np.isscalar(thresh) else map(float,thresh)\n",
    "\n",
    "    y_true, _, map_rev_true = relabel_sequential(y_true)\n",
    "    y_pred, _, map_rev_pred = relabel_sequential(y_pred)\n",
    "\n",
    "    overlap = label_overlap(y_true, y_pred, check=False)\n",
    "    normalized_root_mse = get_ssim(y_true, y_pred)\n",
    "    scores = matching_criteria[criterion](overlap)\n",
    "    assert 0 <= np.min(scores) <= np.max(scores) <= 1\n",
    "\n",
    "    # ignoring background\n",
    "    scores = scores[1:,1:]\n",
    "    n_true, n_pred = scores.shape\n",
    "    n_matched = min(n_true, n_pred)\n",
    "\n",
    "    def _single(thr):\n",
    "        not_trivial = n_matched > 0 and np.any(scores >= thr)\n",
    "        if not_trivial:\n",
    "            # compute optimal matching with scores as tie-breaker\n",
    "            costs = -(scores >= thr).astype(float) - scores / (2*n_matched)\n",
    "            true_ind, pred_ind = linear_sum_assignment(costs)\n",
    "            assert n_matched == len(true_ind) == len(pred_ind)\n",
    "            match_ok = scores[true_ind,pred_ind] >= thr\n",
    "            tp = np.count_nonzero(match_ok)\n",
    "        else:\n",
    "            tp = 0\n",
    "        fp = n_pred - tp\n",
    "        fn = n_true - tp\n",
    "        # assert tp+fp == n_pred\n",
    "        # assert tp+fn == n_true\n",
    "\n",
    "        # the score sum over all matched objects (tp)\n",
    "        sum_matched_score = np.sum(scores[true_ind,pred_ind][match_ok]) if not_trivial else 0.0\n",
    "\n",
    "        # the score average over all matched objects (tp)\n",
    "        mean_matched_score = _safe_divide(sum_matched_score, tp)\n",
    "        # the score average over all gt/true objects\n",
    "        mean_true_score    = _safe_divide(sum_matched_score, n_true)\n",
    "        panoptic_quality   = _safe_divide(sum_matched_score, tp+fp/2+fn/2)\n",
    "\n",
    "        stats_dict = dict (\n",
    "            criterion          = criterion,\n",
    "            thresh             = thr,\n",
    "            fp                 = fp,\n",
    "            tp                 = tp,\n",
    "            fn                 = fn,\n",
    "            precision          = precision(tp,fp,fn),\n",
    "            recall             = recall(tp,fp,fn),\n",
    "            accuracy           = accuracy(tp,fp,fn),\n",
    "            f1                 = f1(tp,fp,fn),\n",
    "            n_true             = n_true,\n",
    "            n_pred             = n_pred,\n",
    "            mean_true_score    = mean_true_score,\n",
    "            mean_matched_score = mean_matched_score,\n",
    "            panoptic_quality   = panoptic_quality,\n",
    "            normalized_root_mse = normalized_root_mse,\n",
    "        )\n",
    "        if bool(report_matches):\n",
    "            if not_trivial:\n",
    "                stats_dict.update (\n",
    "                    # int() to be json serializable\n",
    "                    matched_pairs  = tuple((int(map_rev_true[i]),int(map_rev_pred[j])) for i,j in zip(1+true_ind,1+pred_ind)),\n",
    "                    matched_scores = tuple(scores[true_ind,pred_ind]),\n",
    "                    matched_tps    = tuple(map(int,np.flatnonzero(match_ok))),\n",
    "                )\n",
    "            else:\n",
    "                stats_dict.update (\n",
    "                    matched_pairs  = (),\n",
    "                    matched_scores = (),\n",
    "                    matched_tps    = (),\n",
    "                )\n",
    "        return namedtuple('Matching',stats_dict.keys())(*stats_dict.values())\n",
    "\n",
    "    return _single(thresh) if np.isscalar(thresh) else tuple(map(_single,thresh))\n",
    "\n",
    "\n",
    "\n",
    "def matching_dataset(y_true, y_pred, thresh=0.5, criterion='iou', by_image=False, show_progress=True, parallel=False):\n",
    "    \"\"\"matching metrics for list of images, see `stardist.matching.matching`\n",
    "    \"\"\"\n",
    "    len(y_true) == len(y_pred) or _raise(ValueError(\"y_true and y_pred must have the same length.\"))\n",
    "    return matching_dataset_lazy (\n",
    "        tuple(zip(y_true,y_pred)), thresh=thresh, criterion=criterion, by_image=by_image, show_progress=show_progress, parallel=parallel,\n",
    "    )\n",
    "\n",
    "\n",
    "\n",
    "def matching_dataset_lazy(y_gen, thresh=0.5, criterion='iou', by_image=False, show_progress=True, parallel=False):\n",
    "\n",
    "    expected_keys = set(('fp', 'tp', 'fn', 'normalized_root_mse', 'precision', 'recall', 'accuracy', 'f1', 'criterion', 'thresh', 'n_true', 'n_pred', 'mean_true_score', 'mean_matched_score', 'panoptic_quality'))\n",
    "    single_thresh = False\n",
    "    if np.isscalar(thresh):\n",
    "        single_thresh = True\n",
    "        thresh = (thresh,)\n",
    "\n",
    "    tqdm_kwargs = {}\n",
    "    tqdm_kwargs['disable'] = not bool(show_progress)\n",
    "    if int(show_progress) > 1:\n",
    "        tqdm_kwargs['total'] = int(show_progress)\n",
    "\n",
    "    # compute matching stats for every pair of label images\n",
    "    if parallel:\n",
    "        from concurrent.futures import ThreadPoolExecutor\n",
    "        fn = lambda pair: matching(*pair, thresh=thresh, criterion=criterion, report_matches=False)\n",
    "        with ThreadPoolExecutor() as pool:\n",
    "            stats_all = tuple(pool.map(fn, tqdm(y_gen,**tqdm_kwargs)))\n",
    "    else:\n",
    "        stats_all = tuple (\n",
    "            matching(y_t, y_p, thresh=thresh, criterion=criterion, report_matches=False)\n",
    "            for y_t,y_p in tqdm(y_gen,**tqdm_kwargs)\n",
    "        )\n",
    "\n",
    "    # accumulate results over all images for each threshold separately\n",
    "    n_images, n_threshs = len(stats_all), len(thresh)\n",
    "    accumulate = [{} for _ in range(n_threshs)]\n",
    "    for stats in stats_all:\n",
    "        for i,s in enumerate(stats):\n",
    "            acc = accumulate[i]\n",
    "            for k,v in s._asdict().items():\n",
    "                if k == 'mean_true_score' and not bool(by_image):\n",
    "                    # convert mean_true_score to \"sum_matched_score\"\n",
    "                    acc[k] = acc.setdefault(k,0) + v * s.n_true\n",
    "                else:\n",
    "                    try:\n",
    "                        acc[k] = acc.setdefault(k,0) + v\n",
    "                    except TypeError:\n",
    "                        pass\n",
    "    # normalize/compute 'precision', 'recall', 'accuracy', 'f1'\n",
    "    for thr,acc in zip(thresh,accumulate):\n",
    "        set(acc.keys()) == expected_keys or _raise(ValueError(\"unexpected keys\"))\n",
    "        acc['criterion'] = criterion\n",
    "        acc['thresh'] = thr\n",
    "        acc['by_image'] = bool(by_image)\n",
    "        if bool(by_image):\n",
    "            for k in ('precision', 'recall', 'accuracy', 'f1', 'mean_true_score', 'mean_matched_score', 'panoptic_quality'):\n",
    "                acc[k] /= n_images\n",
    "        else:\n",
    "            tp, fp, fn, n_true, normalized_root_mse = acc['tp'], acc['fp'], acc['fn'], acc['n_true'], acc['normalized_root_mse']\n",
    "            sum_matched_score = acc['mean_true_score']\n",
    "\n",
    "            mean_matched_score = _safe_divide(sum_matched_score, tp)\n",
    "            mean_true_score    = _safe_divide(sum_matched_score, n_true)\n",
    "            panoptic_quality   = _safe_divide(sum_matched_score, tp+fp/2+fn/2)\n",
    "\n",
    "            acc.update(\n",
    "                precision          = precision(tp,fp,fn),\n",
    "                recall             = recall(tp,fp,fn),\n",
    "                accuracy           = accuracy(tp,fp,fn),\n",
    "                f1                 = f1(tp,fp,fn),\n",
    "                mean_true_score    = mean_true_score,\n",
    "                mean_matched_score = mean_matched_score,\n",
    "                panoptic_quality   = panoptic_quality,\n",
    "                normalized_root_mse = normalized_root_mse,\n",
    "            )\n",
    "\n",
    "    accumulate = tuple(namedtuple('DatasetMatching',acc.keys())(*acc.values()) for acc in accumulate)\n",
    "    return accumulate[0] if single_thresh else accumulate\n",
    "\n",
    "\n",
    "\n",
    "# copied from scikit-image master for now (remove when part of a release)\n",
    "def relabel_sequential(label_field, offset=1):\n",
    "    \"\"\"Relabel arbitrary labels to {`offset`, ... `offset` + number_of_labels}.\n",
    "    This function also returns the forward map (mapping the original labels to\n",
    "    the reduced labels) and the inverse map (mapping the reduced labels back\n",
    "    to the original ones).\n",
    "    Parameters\n",
    "    ----------\n",
    "    label_field : numpy array of int, arbitrary shape\n",
    "        An array of labels, which must be non-negative integers.\n",
    "    offset : int, optional\n",
    "        The return labels will start at `offset`, which should be\n",
    "        strictly positive.\n",
    "    Returns\n",
    "    -------\n",
    "    relabeled : numpy array of int, same shape as `label_field`\n",
    "        The input label field with labels mapped to\n",
    "        {offset, ..., number_of_labels + offset - 1}.\n",
    "        The data type will be the same as `label_field`, except when\n",
    "        offset + number_of_labels causes overflow of the current data type.\n",
    "    forward_map : numpy array of int, shape ``(label_field.max() + 1,)``\n",
    "        The map from the original label space to the returned label\n",
    "        space. Can be used to re-apply the same mapping. See examples\n",
    "        for usage. The data type will be the same as `relabeled`.\n",
    "    inverse_map : 1D numpy array of int, of length offset + number of labels\n",
    "        The map from the new label space to the original space. This\n",
    "        can be used to reconstruct the original label field from the\n",
    "        relabeled one. The data type will be the same as `relabeled`.\n",
    "    Notes\n",
    "    -----\n",
    "    The label 0 is assumed to denote the background and is never remapped.\n",
    "    The forward map can be extremely big for some inputs, since its\n",
    "    length is given by the maximum of the label field. However, in most\n",
    "    situations, ``label_field.max()`` is much smaller than\n",
    "    ``label_field.size``, and in these cases the forward map is\n",
    "    guaranteed to be smaller than either the input or output images.\n",
    "    Examples\n",
    "    --------\n",
    "    >>> from skimage.segmentation import relabel_sequential\n",
    "    >>> label_field = np.array([1, 1, 5, 5, 8, 99, 42])\n",
    "    >>> relab, fw, inv = relabel_sequential(label_field)\n",
    "    >>> relab\n",
    "    array([1, 1, 2, 2, 3, 5, 4])\n",
    "    >>> fw\n",
    "    array([0, 1, 0, 0, 0, 2, 0, 0, 3, 0, 0, 0, 0, 0, 0, 0, 0, 0, 0, 0, 0, 0,\n",
    "           0, 0, 0, 0, 0, 0, 0, 0, 0, 0, 0, 0, 0, 0, 0, 0, 0, 0, 0, 0, 4, 0,\n",
    "           0, 0, 0, 0, 0, 0, 0, 0, 0, 0, 0, 0, 0, 0, 0, 0, 0, 0, 0, 0, 0, 0,\n",
    "           0, 0, 0, 0, 0, 0, 0, 0, 0, 0, 0, 0, 0, 0, 0, 0, 0, 0, 0, 0, 0, 0,\n",
    "           0, 0, 0, 0, 0, 0, 0, 0, 0, 0, 0, 5])\n",
    "    >>> inv\n",
    "    array([ 0,  1,  5,  8, 42, 99])\n",
    "    >>> (fw[label_field] == relab).all()\n",
    "    True\n",
    "    >>> (inv[relab] == label_field).all()\n",
    "    True\n",
    "    >>> relab, fw, inv = relabel_sequential(label_field, offset=5)\n",
    "    >>> relab\n",
    "    array([5, 5, 6, 6, 7, 9, 8])\n",
    "    \"\"\"\n",
    "    offset = int(offset)\n",
    "    if offset <= 0:\n",
    "        raise ValueError(\"Offset must be strictly positive.\")\n",
    "    if np.min(label_field) < 0:\n",
    "        raise ValueError(\"Cannot relabel array that contains negative values.\")\n",
    "    max_label = int(label_field.max()) # Ensure max_label is an integer\n",
    "    if not np.issubdtype(label_field.dtype, np.integer):\n",
    "        new_type = np.min_scalar_type(max_label)\n",
    "        label_field = label_field.astype(new_type)\n",
    "    labels = np.unique(label_field)\n",
    "    labels0 = labels[labels != 0]\n",
    "    new_max_label = offset - 1 + len(labels0)\n",
    "    new_labels0 = np.arange(offset, new_max_label + 1)\n",
    "    output_type = label_field.dtype\n",
    "    required_type = np.min_scalar_type(new_max_label)\n",
    "    if np.dtype(required_type).itemsize > np.dtype(label_field.dtype).itemsize:\n",
    "        output_type = required_type\n",
    "    forward_map = np.zeros(max_label + 1, dtype=output_type)\n",
    "    forward_map[labels0] = new_labels0\n",
    "    inverse_map = np.zeros(new_max_label + 1, dtype=output_type)\n",
    "    inverse_map[offset:] = labels0\n",
    "    relabeled = forward_map[label_field]\n",
    "    return relabeled, forward_map, inverse_map\n"
   ]
  },
  {
   "cell_type": "code",
   "execution_count": 3,
   "metadata": {
    "id": "KjqMicjjJBiT"
   },
   "outputs": [
    {
     "ename": "FileNotFoundError",
     "evalue": "[Errno 2] No such file or directory: 'HumanBreastCells/Metrics'",
     "output_type": "error",
     "traceback": [
      "\u001b[0;31m---------------------------------------------------------------------------\u001b[0m",
      "\u001b[0;31mFileNotFoundError\u001b[0m                         Traceback (most recent call last)",
      "Cell \u001b[0;32mIn[3], line 4\u001b[0m\n\u001b[1;32m      2\u001b[0m Prediction \u001b[38;5;241m=\u001b[39m \u001b[38;5;28msorted\u001b[39m(glob(\u001b[38;5;124m'\u001b[39m\u001b[38;5;124mhuman_breast_carcinoma_s256/VollSeg/*.tif\u001b[39m\u001b[38;5;124m'\u001b[39m))\n\u001b[1;32m      3\u001b[0m Results \u001b[38;5;241m=\u001b[39m \u001b[38;5;124m'\u001b[39m\u001b[38;5;124mHumanBreastCells/Metrics/\u001b[39m\u001b[38;5;124m'\u001b[39m\n\u001b[0;32m----> 4\u001b[0m \u001b[43mPath\u001b[49m\u001b[43m(\u001b[49m\u001b[43mResults\u001b[49m\u001b[43m)\u001b[49m\u001b[38;5;241;43m.\u001b[39;49m\u001b[43mmkdir\u001b[49m\u001b[43m(\u001b[49m\u001b[43mexist_ok\u001b[49m\u001b[38;5;241;43m=\u001b[39;49m\u001b[38;5;28;43;01mTrue\u001b[39;49;00m\u001b[43m)\u001b[49m\n\u001b[1;32m      5\u001b[0m model_name \u001b[38;5;241m=\u001b[39m \u001b[38;5;124m'\u001b[39m\u001b[38;5;124mhuman_breast_carcinoma_s256\u001b[39m\u001b[38;5;124m'\u001b[39m\n",
      "File \u001b[0;32m~/anaconda3/envs/lightningenv/lib/python3.10/pathlib.py:1175\u001b[0m, in \u001b[0;36mPath.mkdir\u001b[0;34m(self, mode, parents, exist_ok)\u001b[0m\n\u001b[1;32m   1171\u001b[0m \u001b[38;5;250m\u001b[39m\u001b[38;5;124;03m\"\"\"\u001b[39;00m\n\u001b[1;32m   1172\u001b[0m \u001b[38;5;124;03mCreate a new directory at this given path.\u001b[39;00m\n\u001b[1;32m   1173\u001b[0m \u001b[38;5;124;03m\"\"\"\u001b[39;00m\n\u001b[1;32m   1174\u001b[0m \u001b[38;5;28;01mtry\u001b[39;00m:\n\u001b[0;32m-> 1175\u001b[0m     \u001b[38;5;28;43mself\u001b[39;49m\u001b[38;5;241;43m.\u001b[39;49m\u001b[43m_accessor\u001b[49m\u001b[38;5;241;43m.\u001b[39;49m\u001b[43mmkdir\u001b[49m\u001b[43m(\u001b[49m\u001b[38;5;28;43mself\u001b[39;49m\u001b[43m,\u001b[49m\u001b[43m \u001b[49m\u001b[43mmode\u001b[49m\u001b[43m)\u001b[49m\n\u001b[1;32m   1176\u001b[0m \u001b[38;5;28;01mexcept\u001b[39;00m \u001b[38;5;167;01mFileNotFoundError\u001b[39;00m:\n\u001b[1;32m   1177\u001b[0m     \u001b[38;5;28;01mif\u001b[39;00m \u001b[38;5;129;01mnot\u001b[39;00m parents \u001b[38;5;129;01mor\u001b[39;00m \u001b[38;5;28mself\u001b[39m\u001b[38;5;241m.\u001b[39mparent \u001b[38;5;241m==\u001b[39m \u001b[38;5;28mself\u001b[39m:\n",
      "\u001b[0;31mFileNotFoundError\u001b[0m: [Errno 2] No such file or directory: 'HumanBreastCells/Metrics'"
     ]
    }
   ],
   "source": [
    "GT = sorted(glob('RealMask/*.tif'))\n",
    "Prediction = sorted(glob('human_breast_carcinoma_s256/VollSeg/*.tif'))\n",
    "Results = 'HumanBreastCells/Metrics/'\n",
    "Path(Results).mkdir(exist_ok=True)\n",
    "model_name = 'human_breast_carcinoma_s256'\n",
    "\n"
   ]
  },
  {
   "cell_type": "code",
   "execution_count": null,
   "metadata": {
    "colab": {
     "base_uri": "https://localhost:8080/"
    },
    "executionInfo": {
     "elapsed": 201083,
     "status": "ok",
     "timestamp": 1647272934799,
     "user": {
      "displayName": "kapoorlabs_intern berlin",
      "photoUrl": "https://lh3.googleusercontent.com/a/default-user=s64",
      "userId": "12453078597240373700"
     },
     "user_tz": -60
    },
    "id": "a2W5PxKRJHIP",
    "outputId": "fd00e52b-f2c2-400c-8515-07d8f457fde7"
   },
   "outputs": [],
   "source": [
    "GT = list(map(imread,GT))\n",
    "Prediction = list(map(imread,Prediction))\n",
    "\n",
    "Segmse = []\n",
    "Segssim = []\n",
    "\n",
    "ssimcsvname = Results + \"/\" + \"Prediction_ssim\"    + model_name\n",
    "Segssimwriter = csv.writer(open(ssimcsvname + \".csv\", \"a\"))\n",
    "Segssimwriter.writerow([\"ssim\"])\n",
    "\n",
    "msecsvname = Results + \"/\" + \"Prediction_mse\"    + model_name\n",
    "Segmsewriter = csv.writer(open(msecsvname + \".csv\", \"a\"))\n",
    "Segmsewriter.writerow([\"mse\"])\n",
    "\n",
    "for i in range(len(Prediction)):\n",
    "    similaritymse = mse(MakeBinary(Prediction[i]),MakeBinary(GT[i]))\n",
    "    Segmse.append(similaritymse)\n",
    "\n",
    "    similarityssim = ssim(MakeBinary(Prediction[i]),MakeBinary(GT[i]))\n",
    "    Segssim.append(similarityssim) \n",
    "\n",
    "\n",
    "taus = [0.05,0.1, 0.2, 0.3, 0.4, 0.5, 0.6, 0.7, 0.8, 0.9]\n",
    "statsSeg = [matching_dataset(GT, Prediction, thresh=t, show_progress=False) for t in tqdm(taus)]    "
   ]
  },
  {
   "cell_type": "code",
   "execution_count": null,
   "metadata": {
    "colab": {
     "base_uri": "https://localhost:8080/",
     "height": 612
    },
    "executionInfo": {
     "elapsed": 4079,
     "status": "ok",
     "timestamp": 1647272938870,
     "user": {
      "displayName": "kapoorlabs_intern berlin",
      "photoUrl": "https://lh3.googleusercontent.com/a/default-user=s64",
      "userId": "12453078597240373700"
     },
     "user_tz": -60
    },
    "id": "Qfy34gBAJHVk",
    "outputId": "86737edd-715f-4805-8764-0c1d38b4f258"
   },
   "outputs": [],
   "source": [
    "fig, (ax1,ax2) = plt.subplots(1,2, figsize=(25,10))\n",
    "\n",
    "for m in ('precision', 'recall', 'accuracy', 'f1', 'mean_true_score', 'panoptic_quality'):\n",
    "    ax1.plot(taus, [s._asdict()[m] for s in statsSeg], '.-', lw=2, label=m)\n",
    "ax1.set_xlabel(r'IoU threshold $\\tau$')\n",
    "ax1.set_ylabel('Metric value')\n",
    "ax1.grid()\n",
    "ax1.legend()\n",
    "\n",
    "for m in ('fp', 'tp', 'fn'):\n",
    "    ax2.plot(taus, [s._asdict()[m] for s in statsSeg], '.-', lw=2, label=m)\n",
    "ax2.set_xlabel(r'IoU threshold $\\tau$')\n",
    "ax2.set_ylabel('Number #')\n",
    "ax2.grid()\n",
    "ax2.legend();\n",
    "plt.savefig(Results + model_name, dpi=300)\n",
    "    \n",
    "\n"
   ]
  },
  {
   "cell_type": "code",
   "execution_count": null,
   "metadata": {
    "colab": {
     "base_uri": "https://localhost:8080/",
     "height": 268
    },
    "executionInfo": {
     "elapsed": 5,
     "status": "ok",
     "timestamp": 1647272938871,
     "user": {
      "displayName": "kapoorlabs_intern berlin",
      "photoUrl": "https://lh3.googleusercontent.com/a/default-user=s64",
      "userId": "12453078597240373700"
     },
     "user_tz": -60
    },
    "id": "LfBB0CJ3JHhP",
    "outputId": "e7b5ddfe-e512-4f8e-8552-01c244fac68d"
   },
   "outputs": [],
   "source": [
    "import pandas as pd\n",
    "df = pd.DataFrame(list(zip(Segmse)), index = None,\n",
    "                                              columns =[model_name])\n",
    "\n",
    "sns.set(style=\"whitegrid\")\n",
    "g = sns.violinplot(data=df, orient ='v')\n",
    "fig = g.get_figure()\n",
    "\n",
    "fig.savefig(Results  + model_name + 'mse' + \".png\", dpi=300)\n",
    "\n"
   ]
  },
  {
   "cell_type": "code",
   "execution_count": null,
   "metadata": {
    "colab": {
     "base_uri": "https://localhost:8080/",
     "height": 268
    },
    "executionInfo": {
     "elapsed": 587,
     "status": "ok",
     "timestamp": 1647272939453,
     "user": {
      "displayName": "kapoorlabs_intern berlin",
      "photoUrl": "https://lh3.googleusercontent.com/a/default-user=s64",
      "userId": "12453078597240373700"
     },
     "user_tz": -60
    },
    "id": "1JVln2j_JW9Z",
    "outputId": "ebcbe805-422b-434d-ba8b-160d279ac9f6"
   },
   "outputs": [],
   "source": [
    "df = pd.DataFrame(list(zip(Segssim)), index = None,\n",
    "                                              columns =[model_name])\n",
    "\n",
    "sns.set(style=\"whitegrid\")\n",
    "g = sns.violinplot(data=df, orient ='v')\n",
    "fig = g.get_figure()\n",
    "\n",
    "fig.savefig(Results  + model_name + 'ssim' + \".png\", dpi=300)\n",
    "\n"
   ]
  },
  {
   "cell_type": "code",
   "execution_count": null,
   "metadata": {
    "id": "AQhdCPn4JenM"
   },
   "outputs": [],
   "source": [
    "GT = sorted(glob('RealMask/*.tif'))\n",
    "Prediction = sorted(glob('HumanBreastCells/human_breast_carcinoma_s128/VollSeg/*.tif'))\n",
    "Results = 'HumanBreastCells/Metrics/'\n",
    "Path(Results).mkdir(exist_ok=True)\n",
    "model_name = 'human_breast_carcinoma_s128'\n",
    "\n"
   ]
  },
  {
   "cell_type": "code",
   "execution_count": null,
   "metadata": {
    "colab": {
     "base_uri": "https://localhost:8080/"
    },
    "executionInfo": {
     "elapsed": 197363,
     "status": "ok",
     "timestamp": 1647273136815,
     "user": {
      "displayName": "kapoorlabs_intern berlin",
      "photoUrl": "https://lh3.googleusercontent.com/a/default-user=s64",
      "userId": "12453078597240373700"
     },
     "user_tz": -60
    },
    "id": "OZI_0X5IJez4",
    "outputId": "4363ef14-3e73-4685-9cdc-ee981f80315b"
   },
   "outputs": [],
   "source": [
    "GT = list(map(imread,GT))\n",
    "Prediction = list(map(imread,Prediction))\n",
    "\n",
    "Segmse = []\n",
    "Segssim = []\n",
    "\n",
    "ssimcsvname = Results + \"/\" + \"Prediction_ssim\"    + model_name\n",
    "Segssimwriter = csv.writer(open(ssimcsvname + \".csv\", \"a\"))\n",
    "Segssimwriter.writerow([\"ssim\"])\n",
    "\n",
    "msecsvname = Results + \"/\" + \"Prediction_mse\"    + model_name\n",
    "Segmsewriter = csv.writer(open(msecsvname + \".csv\", \"a\"))\n",
    "Segmsewriter.writerow([\"mse\"])\n",
    "\n",
    "for i in range(len(Prediction)):\n",
    "    similaritymse = mse(MakeBinary(Prediction[i]),MakeBinary(GT[i]))\n",
    "    Segmse.append(similaritymse)\n",
    "\n",
    "    similarityssim = ssim(MakeBinary(Prediction[i]),MakeBinary(GT[i]))\n",
    "    Segssim.append(similarityssim) \n",
    "\n",
    "\n",
    "taus = [0.05,0.1, 0.2, 0.3, 0.4, 0.5, 0.6, 0.7, 0.8, 0.9]\n",
    "statsSeg = [matching_dataset(GT, Prediction, thresh=t, show_progress=False) for t in tqdm(taus)]    "
   ]
  },
  {
   "cell_type": "code",
   "execution_count": null,
   "metadata": {
    "colab": {
     "base_uri": "https://localhost:8080/",
     "height": 612
    },
    "executionInfo": {
     "elapsed": 4887,
     "status": "ok",
     "timestamp": 1647273141694,
     "user": {
      "displayName": "kapoorlabs_intern berlin",
      "photoUrl": "https://lh3.googleusercontent.com/a/default-user=s64",
      "userId": "12453078597240373700"
     },
     "user_tz": -60
    },
    "id": "jA_zV2VyJe_i",
    "outputId": "117b1d1a-fc05-413f-b235-7ff075ee625a"
   },
   "outputs": [],
   "source": [
    "fig, (ax1,ax2) = plt.subplots(1,2, figsize=(25,10))\n",
    "\n",
    "for m in ('precision', 'recall', 'accuracy', 'f1', 'mean_true_score', 'panoptic_quality'):\n",
    "    ax1.plot(taus, [s._asdict()[m] for s in statsSeg], '.-', lw=2, label=m)\n",
    "ax1.set_xlabel(r'IoU threshold $\\tau$')\n",
    "ax1.set_ylabel('Metric value')\n",
    "ax1.grid()\n",
    "ax1.legend()\n",
    "\n",
    "for m in ('fp', 'tp', 'fn'):\n",
    "    ax2.plot(taus, [s._asdict()[m] for s in statsSeg], '.-', lw=2, label=m)\n",
    "ax2.set_xlabel(r'IoU threshold $\\tau$')\n",
    "ax2.set_ylabel('Number #')\n",
    "ax2.grid()\n",
    "ax2.legend();\n",
    "plt.savefig(Results + model_name, dpi=300)\n",
    "    \n",
    "\n"
   ]
  },
  {
   "cell_type": "code",
   "execution_count": null,
   "metadata": {
    "colab": {
     "base_uri": "https://localhost:8080/",
     "height": 272
    },
    "executionInfo": {
     "elapsed": 848,
     "status": "ok",
     "timestamp": 1647273142539,
     "user": {
      "displayName": "kapoorlabs_intern berlin",
      "photoUrl": "https://lh3.googleusercontent.com/a/default-user=s64",
      "userId": "12453078597240373700"
     },
     "user_tz": -60
    },
    "id": "wPxe3asBJfLA",
    "outputId": "2d14904d-9361-4fe3-89e6-477bde7be971"
   },
   "outputs": [],
   "source": [
    "import pandas as pd\n",
    "df = pd.DataFrame(list(zip(Segmse)), index = None,\n",
    "                                              columns =[model_name])\n",
    "\n",
    "sns.set(style=\"whitegrid\")\n",
    "g = sns.violinplot(data=df, orient ='v')\n",
    "fig = g.get_figure()\n",
    "\n",
    "fig.savefig(Results  + model_name + 'mse' + \".png\", dpi=300)\n",
    "\n"
   ]
  },
  {
   "cell_type": "code",
   "execution_count": null,
   "metadata": {
    "colab": {
     "base_uri": "https://localhost:8080/",
     "height": 268
    },
    "executionInfo": {
     "elapsed": 37,
     "status": "ok",
     "timestamp": 1647273142541,
     "user": {
      "displayName": "kapoorlabs_intern berlin",
      "photoUrl": "https://lh3.googleusercontent.com/a/default-user=s64",
      "userId": "12453078597240373700"
     },
     "user_tz": -60
    },
    "id": "pLVi1PIwJfWH",
    "outputId": "cc682873-22b5-4b39-ddb7-499e49221eb6"
   },
   "outputs": [],
   "source": [
    "df = pd.DataFrame(list(zip(Segssim)), index = None,\n",
    "                                              columns =[model_name])\n",
    "\n",
    "sns.set(style=\"whitegrid\")\n",
    "g = sns.violinplot(data=df, orient ='v')\n",
    "fig = g.get_figure()\n",
    "\n",
    "fig.savefig(Results  + model_name + 'ssim' + \".png\", dpi=300)\n",
    "\n"
   ]
  },
  {
   "cell_type": "code",
   "execution_count": null,
   "metadata": {
    "id": "KN7UX8tfp_wa"
   },
   "outputs": [],
   "source": [
    "GT = sorted(glob('HumanBreastCells/RealMask/*.tif'))\n",
    "Prediction = sorted(glob('HumanBreastCells/human_breast_carcinoma_s64f48/VollSeg/*.tif'))\n",
    "Results = 'HumanBreastCells/Metrics/'\n",
    "Path(Results).mkdir(exist_ok=True)\n",
    "model_name = 'human_breast_carcinoma_s64f48'\n",
    "\n"
   ]
  },
  {
   "cell_type": "code",
   "execution_count": null,
   "metadata": {
    "colab": {
     "base_uri": "https://localhost:8080/"
    },
    "executionInfo": {
     "elapsed": 200438,
     "status": "ok",
     "timestamp": 1647273342943,
     "user": {
      "displayName": "kapoorlabs_intern berlin",
      "photoUrl": "https://lh3.googleusercontent.com/a/default-user=s64",
      "userId": "12453078597240373700"
     },
     "user_tz": -60
    },
    "id": "ete7AkFip_-Q",
    "outputId": "136bf459-f8b3-4d4e-90aa-11f9ab0a6f00"
   },
   "outputs": [],
   "source": [
    "GT = list(map(imread,GT))\n",
    "Prediction = list(map(imread,Prediction))\n",
    "\n",
    "Segmse = []\n",
    "Segssim = []\n",
    "\n",
    "ssimcsvname = Results + \"/\" + \"Prediction_ssim\"    + model_name\n",
    "Segssimwriter = csv.writer(open(ssimcsvname + \".csv\", \"a\"))\n",
    "Segssimwriter.writerow([\"ssim\"])\n",
    "\n",
    "msecsvname = Results + \"/\" + \"Prediction_mse\"    + model_name\n",
    "Segmsewriter = csv.writer(open(msecsvname + \".csv\", \"a\"))\n",
    "Segmsewriter.writerow([\"mse\"])\n",
    "\n",
    "for i in range(len(Prediction)):\n",
    "    similaritymse = mse(MakeBinary(Prediction[i]),MakeBinary(GT[i]))\n",
    "    Segmse.append(similaritymse)\n",
    "\n",
    "    similarityssim = ssim(MakeBinary(Prediction[i]),MakeBinary(GT[i]))\n",
    "    Segssim.append(similarityssim) \n",
    "\n",
    "\n",
    "taus = [0.05,0.1, 0.2, 0.3, 0.4, 0.5, 0.6, 0.7, 0.8, 0.9]\n",
    "statsSeg = [matching_dataset(GT, Prediction, thresh=t, show_progress=False) for t in tqdm(taus)]    "
   ]
  },
  {
   "cell_type": "code",
   "execution_count": null,
   "metadata": {
    "colab": {
     "base_uri": "https://localhost:8080/",
     "height": 613
    },
    "executionInfo": {
     "elapsed": 4540,
     "status": "ok",
     "timestamp": 1647273347475,
     "user": {
      "displayName": "kapoorlabs_intern berlin",
      "photoUrl": "https://lh3.googleusercontent.com/a/default-user=s64",
      "userId": "12453078597240373700"
     },
     "user_tz": -60
    },
    "id": "IMKmagmoqAKr",
    "outputId": "58790fdd-073d-40a8-939d-b9a09a341777"
   },
   "outputs": [],
   "source": [
    "fig, (ax1,ax2) = plt.subplots(1,2, figsize=(25,10))\n",
    "\n",
    "for m in ('precision', 'recall', 'accuracy', 'f1', 'mean_true_score', 'panoptic_quality'):\n",
    "    ax1.plot(taus, [s._asdict()[m] for s in statsSeg], '.-', lw=2, label=m)\n",
    "ax1.set_xlabel(r'IoU threshold $\\tau$')\n",
    "ax1.set_ylabel('Metric value')\n",
    "ax1.grid()\n",
    "ax1.legend()\n",
    "\n",
    "for m in ('fp', 'tp', 'fn'):\n",
    "    ax2.plot(taus, [s._asdict()[m] for s in statsSeg], '.-', lw=2, label=m)\n",
    "ax2.set_xlabel(r'IoU threshold $\\tau$')\n",
    "ax2.set_ylabel('Number #')\n",
    "ax2.grid()\n",
    "ax2.legend();\n",
    "plt.savefig(Results + model_name, dpi=300)\n",
    "    \n",
    "\n"
   ]
  },
  {
   "cell_type": "code",
   "execution_count": null,
   "metadata": {
    "colab": {
     "base_uri": "https://localhost:8080/",
     "height": 268
    },
    "executionInfo": {
     "elapsed": 6,
     "status": "ok",
     "timestamp": 1647273347475,
     "user": {
      "displayName": "kapoorlabs_intern berlin",
      "photoUrl": "https://lh3.googleusercontent.com/a/default-user=s64",
      "userId": "12453078597240373700"
     },
     "user_tz": -60
    },
    "id": "W6CHZBlpqAXs",
    "outputId": "15184f9b-7511-4ae6-8cef-be55a1910fbe"
   },
   "outputs": [],
   "source": [
    "import pandas as pd\n",
    "df = pd.DataFrame(list(zip(Segmse)), index = None,\n",
    "                                              columns =[model_name])\n",
    "\n",
    "sns.set(style=\"whitegrid\")\n",
    "g = sns.violinplot(data=df, orient ='v')\n",
    "fig = g.get_figure()\n",
    "\n",
    "fig.savefig(Results  + model_name + 'mse' + \".png\", dpi=300)\n",
    "\n"
   ]
  },
  {
   "cell_type": "code",
   "execution_count": null,
   "metadata": {
    "colab": {
     "base_uri": "https://localhost:8080/",
     "height": 268
    },
    "executionInfo": {
     "elapsed": 648,
     "status": "ok",
     "timestamp": 1647273348119,
     "user": {
      "displayName": "kapoorlabs_intern berlin",
      "photoUrl": "https://lh3.googleusercontent.com/a/default-user=s64",
      "userId": "12453078597240373700"
     },
     "user_tz": -60
    },
    "id": "DEXwXHMRqOz8",
    "outputId": "7eee28b4-093e-417c-a594-9bda2a027009"
   },
   "outputs": [],
   "source": [
    "df = pd.DataFrame(list(zip(Segssim)), index = None,\n",
    "                                              columns =[model_name])\n",
    "\n",
    "sns.set(style=\"whitegrid\")\n",
    "g = sns.violinplot(data=df, orient ='v')\n",
    "fig = g.get_figure()\n",
    "\n",
    "fig.savefig(Results  + model_name + 'ssim' + \".png\", dpi=300)\n",
    "\n"
   ]
  },
  {
   "cell_type": "code",
   "execution_count": null,
   "metadata": {
    "id": "6Uf-szaDqa3t"
   },
   "outputs": [],
   "source": [
    "GT = sorted(glob('HumanBreastCells/RealMask/*.tif'))\n",
    "Prediction = sorted(glob('HumanBreastCells/human_breast_carcinoma_g2_s16/VollSeg/*.tif'))\n",
    "Results = 'HumanBreastCells/Metrics/'\n",
    "Path(Results).mkdir(exist_ok=True)\n",
    "model_name = 'human_breast_carcinoma_g2_s16'\n",
    "\n"
   ]
  },
  {
   "cell_type": "code",
   "execution_count": null,
   "metadata": {
    "colab": {
     "base_uri": "https://localhost:8080/"
    },
    "executionInfo": {
     "elapsed": 179332,
     "status": "ok",
     "timestamp": 1647280638268,
     "user": {
      "displayName": "kapoorlabs_intern berlin",
      "photoUrl": "https://lh3.googleusercontent.com/a/default-user=s64",
      "userId": "12453078597240373700"
     },
     "user_tz": -60
    },
    "id": "xDjyN-cJqbEL",
    "outputId": "d5cc1924-16a0-4898-cc8b-cece62d55d94"
   },
   "outputs": [],
   "source": [
    "GT = list(map(imread,GT))\n",
    "Prediction = list(map(imread,Prediction))\n",
    "\n",
    "Segmse = []\n",
    "Segssim = []\n",
    "\n",
    "ssimcsvname = Results + \"/\" + \"Prediction_ssim\"    + model_name\n",
    "Segssimwriter = csv.writer(open(ssimcsvname + \".csv\", \"a\"))\n",
    "Segssimwriter.writerow([\"ssim\"])\n",
    "\n",
    "msecsvname = Results + \"/\" + \"Prediction_mse\"    + model_name\n",
    "Segmsewriter = csv.writer(open(msecsvname + \".csv\", \"a\"))\n",
    "Segmsewriter.writerow([\"mse\"])\n",
    "\n",
    "for i in range(len(Prediction)):\n",
    "    similaritymse = mse(MakeBinary(Prediction[i]),MakeBinary(GT[i]))\n",
    "    Segmse.append(similaritymse)\n",
    "\n",
    "    similarityssim = ssim(MakeBinary(Prediction[i]),MakeBinary(GT[i]))\n",
    "    Segssim.append(similarityssim) \n",
    "\n",
    "\n",
    "taus = [0.05,0.1, 0.2, 0.3, 0.4, 0.5, 0.6, 0.7, 0.8, 0.9]\n",
    "statsSeg = [matching_dataset(GT, Prediction, thresh=t, show_progress=False) for t in tqdm(taus)]    "
   ]
  },
  {
   "cell_type": "code",
   "execution_count": null,
   "metadata": {
    "colab": {
     "base_uri": "https://localhost:8080/"
    },
    "executionInfo": {
     "elapsed": 4633,
     "status": "ok",
     "timestamp": 1647280642889,
     "user": {
      "displayName": "kapoorlabs_intern berlin",
      "photoUrl": "https://lh3.googleusercontent.com/a/default-user=s64",
      "userId": "12453078597240373700"
     },
     "user_tz": -60
    },
    "id": "jHuCkKQ2qbQJ",
    "outputId": "1a5f2d9e-f31e-4c59-ad28-05992212a41a"
   },
   "outputs": [],
   "source": [
    "fig, (ax1,ax2) = plt.subplots(1,2, figsize=(25,10))\n",
    "\n",
    "for m in ('precision', 'recall', 'accuracy', 'f1', 'mean_true_score', 'panoptic_quality'):\n",
    "    ax1.plot(taus, [s._asdict()[m] for s in statsSeg], '.-', lw=2, label=m)\n",
    "ax1.set_xlabel(r'IoU threshold $\\tau$')\n",
    "ax1.set_ylabel('Metric value')\n",
    "ax1.grid()\n",
    "ax1.legend()\n",
    "\n",
    "for m in ('fp', 'tp', 'fn'):\n",
    "    ax2.plot(taus, [s._asdict()[m] for s in statsSeg], '.-', lw=2, label=m)\n",
    "ax2.set_xlabel(r'IoU threshold $\\tau$')\n",
    "ax2.set_ylabel('Number #')\n",
    "ax2.grid()\n",
    "ax2.legend();\n",
    "plt.savefig(Results + model_name, dpi=300)\n",
    "    \n",
    "\n"
   ]
  },
  {
   "cell_type": "code",
   "execution_count": null,
   "metadata": {
    "colab": {
     "base_uri": "https://localhost:8080/"
    },
    "executionInfo": {
     "elapsed": 5,
     "status": "ok",
     "timestamp": 1647280642889,
     "user": {
      "displayName": "kapoorlabs_intern berlin",
      "photoUrl": "https://lh3.googleusercontent.com/a/default-user=s64",
      "userId": "12453078597240373700"
     },
     "user_tz": -60
    },
    "id": "fAJ_uBS4qbau",
    "outputId": "ccfc2fd2-63aa-43ca-ab90-0a92c3d1154e"
   },
   "outputs": [],
   "source": [
    "import pandas as pd\n",
    "df = pd.DataFrame(list(zip(Segmse)), index = None,\n",
    "                                              columns =[model_name])\n",
    "\n",
    "sns.set(style=\"whitegrid\")\n",
    "g = sns.violinplot(data=df, orient ='v')\n",
    "fig = g.get_figure()\n",
    "\n",
    "fig.savefig(Results  + model_name + 'mse' + \".png\", dpi=300)\n",
    "\n"
   ]
  },
  {
   "cell_type": "code",
   "execution_count": null,
   "metadata": {
    "colab": {
     "base_uri": "https://localhost:8080/"
    },
    "executionInfo": {
     "elapsed": 630,
     "status": "ok",
     "timestamp": 1647280643515,
     "user": {
      "displayName": "kapoorlabs_intern berlin",
      "photoUrl": "https://lh3.googleusercontent.com/a/default-user=s64",
      "userId": "12453078597240373700"
     },
     "user_tz": -60
    },
    "id": "hnpdNXspqblz",
    "outputId": "7dbdca82-9392-4962-8ee7-14d7e95b50cd"
   },
   "outputs": [],
   "source": [
    "df = pd.DataFrame(list(zip(Segssim)), index = None,\n",
    "                                              columns =[model_name])\n",
    "\n",
    "sns.set(style=\"whitegrid\")\n",
    "g = sns.violinplot(data=df, orient ='v')\n",
    "fig = g.get_figure()\n",
    "\n",
    "fig.savefig(Results  + model_name + 'ssim' + \".png\", dpi=300)\n",
    "\n"
   ]
  },
  {
   "cell_type": "code",
   "execution_count": null,
   "metadata": {
    "id": "L5B5BZg9qtLa"
   },
   "outputs": [],
   "source": [
    "GT = sorted(glob('HumanBreastCells/RealMask/*.tif'))\n",
    "Prediction = sorted(glob('HumanBreastCells/human_breast_carcinoma_s64/VollSeg/*.tif'))\n",
    "Results = 'HumanBreastCells/Metrics/'\n",
    "Path(Results).mkdir(exist_ok=True)\n",
    "model_name = 'human_breast_carcinoma_s64'\n",
    "\n"
   ]
  },
  {
   "cell_type": "code",
   "execution_count": null,
   "metadata": {
    "colab": {
     "base_uri": "https://localhost:8080/"
    },
    "executionInfo": {
     "elapsed": 211728,
     "status": "ok",
     "timestamp": 1647273890645,
     "user": {
      "displayName": "kapoorlabs_intern berlin",
      "photoUrl": "https://lh3.googleusercontent.com/a/default-user=s64",
      "userId": "12453078597240373700"
     },
     "user_tz": -60
    },
    "id": "K4qcqvlmqtX_",
    "outputId": "444a32ab-715e-4695-9b7b-27fb8cfe51a0"
   },
   "outputs": [],
   "source": [
    "GT = list(map(imread,GT))\n",
    "Prediction = list(map(imread,Prediction))\n",
    "\n",
    "Segmse = []\n",
    "Segssim = []\n",
    "\n",
    "ssimcsvname = Results + \"/\" + \"Prediction_ssim\"    + model_name\n",
    "Segssimwriter = csv.writer(open(ssimcsvname + \".csv\", \"a\"))\n",
    "Segssimwriter.writerow([\"ssim\"])\n",
    "\n",
    "msecsvname = Results + \"/\" + \"Prediction_mse\"    + model_name\n",
    "Segmsewriter = csv.writer(open(msecsvname + \".csv\", \"a\"))\n",
    "Segmsewriter.writerow([\"mse\"])\n",
    "\n",
    "for i in range(len(Prediction)):\n",
    "    similaritymse = mse(MakeBinary(Prediction[i]),MakeBinary(GT[i]))\n",
    "    Segmse.append(similaritymse)\n",
    "\n",
    "    similarityssim = ssim(MakeBinary(Prediction[i]),MakeBinary(GT[i]))\n",
    "    Segssim.append(similarityssim) \n",
    "\n",
    "\n",
    "taus = [0.05,0.1, 0.2, 0.3, 0.4, 0.5, 0.6, 0.7, 0.8, 0.9]\n",
    "statsSeg = [matching_dataset(GT, Prediction, thresh=t, show_progress=False) for t in tqdm(taus)]    "
   ]
  },
  {
   "cell_type": "code",
   "execution_count": null,
   "metadata": {
    "colab": {
     "base_uri": "https://localhost:8080/",
     "height": 612
    },
    "executionInfo": {
     "elapsed": 4865,
     "status": "ok",
     "timestamp": 1647273895508,
     "user": {
      "displayName": "kapoorlabs_intern berlin",
      "photoUrl": "https://lh3.googleusercontent.com/a/default-user=s64",
      "userId": "12453078597240373700"
     },
     "user_tz": -60
    },
    "id": "0A7HTHC0qtkW",
    "outputId": "bd5cece7-94fc-46e1-8f96-38b1e54b4693"
   },
   "outputs": [],
   "source": [
    "fig, (ax1,ax2) = plt.subplots(1,2, figsize=(25,10))\n",
    "\n",
    "for m in ('precision', 'recall', 'accuracy', 'f1', 'mean_true_score', 'panoptic_quality'):\n",
    "    ax1.plot(taus, [s._asdict()[m] for s in statsSeg], '.-', lw=2, label=m)\n",
    "ax1.set_xlabel(r'IoU threshold $\\tau$')\n",
    "ax1.set_ylabel('Metric value')\n",
    "ax1.grid()\n",
    "ax1.legend()\n",
    "\n",
    "for m in ('fp', 'tp', 'fn'):\n",
    "    ax2.plot(taus, [s._asdict()[m] for s in statsSeg], '.-', lw=2, label=m)\n",
    "ax2.set_xlabel(r'IoU threshold $\\tau$')\n",
    "ax2.set_ylabel('Number #')\n",
    "ax2.grid()\n",
    "ax2.legend();\n",
    "plt.savefig(Results + model_name, dpi=300)\n",
    "    \n",
    "\n"
   ]
  },
  {
   "cell_type": "code",
   "execution_count": null,
   "metadata": {
    "colab": {
     "base_uri": "https://localhost:8080/",
     "height": 271
    },
    "executionInfo": {
     "elapsed": 1463,
     "status": "ok",
     "timestamp": 1647273896963,
     "user": {
      "displayName": "kapoorlabs_intern berlin",
      "photoUrl": "https://lh3.googleusercontent.com/a/default-user=s64",
      "userId": "12453078597240373700"
     },
     "user_tz": -60
    },
    "id": "AFtuW6bOqtws",
    "outputId": "288de921-d352-41ee-f967-d9d745c4c5e0"
   },
   "outputs": [],
   "source": [
    "import pandas as pd\n",
    "df = pd.DataFrame(list(zip(Segmse)), index = None,\n",
    "                                              columns =[model_name])\n",
    "\n",
    "sns.set(style=\"whitegrid\")\n",
    "g = sns.violinplot(data=df, orient ='v')\n",
    "fig = g.get_figure()\n",
    "\n",
    "fig.savefig(Results  + model_name + 'mse' + \".png\", dpi=300)\n",
    "\n"
   ]
  },
  {
   "cell_type": "code",
   "execution_count": null,
   "metadata": {
    "colab": {
     "base_uri": "https://localhost:8080/",
     "height": 268
    },
    "executionInfo": {
     "elapsed": 4,
     "status": "ok",
     "timestamp": 1647273896963,
     "user": {
      "displayName": "kapoorlabs_intern berlin",
      "photoUrl": "https://lh3.googleusercontent.com/a/default-user=s64",
      "userId": "12453078597240373700"
     },
     "user_tz": -60
    },
    "id": "KcDFjqbWqt8Q",
    "outputId": "24e451af-f67d-4f29-bdc2-82eb05043c98"
   },
   "outputs": [],
   "source": [
    "df = pd.DataFrame(list(zip(Segssim)), index = None,\n",
    "                                              columns =[model_name])\n",
    "\n",
    "sns.set(style=\"whitegrid\")\n",
    "g = sns.violinplot(data=df, orient ='v')\n",
    "fig = g.get_figure()\n",
    "\n",
    "fig.savefig(Results  + model_name + 'ssim' + \".png\", dpi=300)\n",
    "\n"
   ]
  },
  {
   "cell_type": "code",
   "execution_count": null,
   "metadata": {
    "executionInfo": {
     "elapsed": 5986,
     "status": "ok",
     "timestamp": 1647342422371,
     "user": {
      "displayName": "kapoorlabs_intern berlin",
      "photoUrl": "https://lh3.googleusercontent.com/a/default-user=s64",
      "userId": "12453078597240373700"
     },
     "user_tz": -60
    },
    "id": "PRqjj6JOD_PN"
   },
   "outputs": [],
   "source": [
    "GT = sorted(glob('LungDataset/ds/RealMask/*.tif'))\n",
    "Prediction = sorted(glob('LungDataset/ds/Raw/Results_UNETlung_unet_f32_d3_ds/BinaryMask/*.tif'))\n",
    "Results = 'LungDataset/ds/Metrics/'\n",
    "Path(Results).mkdir(exist_ok=True)\n",
    "model_name = 'UNETlung_unet_f32_d3_ds'\n",
    "    "
   ]
  },
  {
   "cell_type": "code",
   "execution_count": null,
   "metadata": {
    "colab": {
     "base_uri": "https://localhost:8080/"
    },
    "executionInfo": {
     "elapsed": 184356,
     "status": "ok",
     "timestamp": 1647342606724,
     "user": {
      "displayName": "kapoorlabs_intern berlin",
      "photoUrl": "https://lh3.googleusercontent.com/a/default-user=s64",
      "userId": "12453078597240373700"
     },
     "user_tz": -60
    },
    "id": "M-qBuuRUD_PO",
    "outputId": "51f6c1a2-56ac-4c3e-a666-eaedf78048c1"
   },
   "outputs": [],
   "source": [
    "Prediction = list(map(imread,Prediction))\n",
    "GT = list(map(imread,GT))\n",
    "\n",
    "\n",
    "Segmse = []\n",
    "Segssim = []\n",
    "\n",
    "ssimcsvname = Results + \"/\" + \"Prediction_ssim\"    \n",
    "Segssimwriter = csv.writer(open(ssimcsvname + \".csv\", \"a\"))\n",
    "Segssimwriter.writerow([\"ssim\"])\n",
    "\n",
    "msecsvname = Results + \"/\" + \"Prediction_mse\"    \n",
    "Segmsewriter = csv.writer(open(msecsvname + \".csv\", \"a\"))\n",
    "Segmsewriter.writerow([\"mse\"])\n",
    "\n",
    "for i in range(len(Prediction)):\n",
    "    similaritymse = mse(MakeBinary(Prediction[i]),MakeBinary(GT[i]))\n",
    "    Segmse.append(similaritymse)\n",
    "\n",
    "    similarityssim = ssim(MakeBinary(Prediction[i]),MakeBinary(GT[i]))\n",
    "    Segssim.append(similarityssim) \n",
    "\n",
    "\n",
    "taus = [0.05,0.1, 0.2, 0.3, 0.4, 0.5, 0.6, 0.7, 0.8, 0.9]\n",
    "statsSeg = [matching_dataset(GT, Prediction, thresh=t, show_progress=False) for t in tqdm(taus)]    "
   ]
  },
  {
   "cell_type": "code",
   "execution_count": null,
   "metadata": {
    "colab": {
     "base_uri": "https://localhost:8080/",
     "height": 607
    },
    "executionInfo": {
     "elapsed": 4182,
     "status": "ok",
     "timestamp": 1647342610903,
     "user": {
      "displayName": "kapoorlabs_intern berlin",
      "photoUrl": "https://lh3.googleusercontent.com/a/default-user=s64",
      "userId": "12453078597240373700"
     },
     "user_tz": -60
    },
    "id": "7GtuBZC4D_PO",
    "outputId": "ed69ec1c-3e9d-43f4-ce7f-0e2e2a35e4d9"
   },
   "outputs": [],
   "source": [
    "fig, (ax1,ax2) = plt.subplots(1,2, figsize=(25,10))\n",
    "\n",
    "for m in ('precision', 'recall', 'accuracy', 'f1', 'mean_true_score', 'panoptic_quality'):\n",
    "    ax1.plot(taus, [s._asdict()[m] for s in statsSeg], '.-', lw=2, label=m)\n",
    "ax1.set_xlabel(r'IoU threshold $\\tau$')\n",
    "ax1.set_ylabel('Metric value')\n",
    "ax1.grid()\n",
    "ax1.legend()\n",
    "\n",
    "for m in ('fp', 'tp', 'fn'):\n",
    "    ax2.plot(taus, [s._asdict()[m] for s in statsSeg], '.-', lw=2, label=m)\n",
    "ax2.set_xlabel(r'IoU threshold $\\tau$')\n",
    "ax2.set_ylabel('Number #')\n",
    "ax2.grid()\n",
    "ax2.legend();\n",
    "plt.savefig(Results + model_name, dpi=300)\n",
    "    \n",
    "\n"
   ]
  },
  {
   "cell_type": "code",
   "execution_count": null,
   "metadata": {
    "colab": {
     "base_uri": "https://localhost:8080/",
     "height": 268
    },
    "executionInfo": {
     "elapsed": 523,
     "status": "ok",
     "timestamp": 1647342611424,
     "user": {
      "displayName": "kapoorlabs_intern berlin",
      "photoUrl": "https://lh3.googleusercontent.com/a/default-user=s64",
      "userId": "12453078597240373700"
     },
     "user_tz": -60
    },
    "id": "89_A0LvND_PO",
    "outputId": "fe671c00-93c5-42f8-fad4-dc0bc6ae2411"
   },
   "outputs": [],
   "source": [
    "import pandas as pd\n",
    "df = pd.DataFrame(list(zip(Segmse)), index = None,\n",
    "                                              columns =[model_name])\n",
    "\n",
    "sns.set(style=\"whitegrid\")\n",
    "g = sns.violinplot(data=df, orient ='v')\n",
    "fig = g.get_figure()\n",
    "\n",
    "fig.savefig(Results  + model_name + 'mse' + \".png\", dpi=300)"
   ]
  },
  {
   "cell_type": "code",
   "execution_count": null,
   "metadata": {
    "colab": {
     "base_uri": "https://localhost:8080/",
     "height": 272
    },
    "executionInfo": {
     "elapsed": 869,
     "status": "ok",
     "timestamp": 1647342612291,
     "user": {
      "displayName": "kapoorlabs_intern berlin",
      "photoUrl": "https://lh3.googleusercontent.com/a/default-user=s64",
      "userId": "12453078597240373700"
     },
     "user_tz": -60
    },
    "id": "qFqpA-UCZsVV",
    "outputId": "6936ec88-b12c-480f-e724-661b9692f7ce"
   },
   "outputs": [],
   "source": [
    "df = pd.DataFrame(list(zip(Segssim)), index = None,\n",
    "                                              columns =[model_name])\n",
    "\n",
    "sns.set(style=\"whitegrid\")\n",
    "g = sns.violinplot(data=df, orient ='v')\n",
    "fig = g.get_figure()\n",
    "\n",
    "fig.savefig(Results  + model_name + 'ssim' + \".png\", dpi=300)"
   ]
  },
  {
   "cell_type": "code",
   "execution_count": null,
   "metadata": {
    "executionInfo": {
     "elapsed": 1119,
     "status": "ok",
     "timestamp": 1647342613407,
     "user": {
      "displayName": "kapoorlabs_intern berlin",
      "photoUrl": "https://lh3.googleusercontent.com/a/default-user=s64",
      "userId": "12453078597240373700"
     },
     "user_tz": -60
    },
    "id": "YoJ2cwEsZvbZ"
   },
   "outputs": [],
   "source": [
    "GT = sorted(glob('LungDataset/ds/RealMask/*.tif'))\n",
    "Prediction = sorted(glob('LungDataset/ds/Raw/Results_UNETlung_unet_f32_d4_ds/BinaryMask/*.tif'))\n",
    "Results = 'LungDataset/ds/Metrics/'\n",
    "Path(Results).mkdir(exist_ok=True)\n",
    "model_name = 'UNETlung_unet_f32_d4_ds'"
   ]
  },
  {
   "cell_type": "code",
   "execution_count": null,
   "metadata": {
    "colab": {
     "base_uri": "https://localhost:8080/"
    },
    "executionInfo": {
     "elapsed": 176213,
     "status": "ok",
     "timestamp": 1647342789617,
     "user": {
      "displayName": "kapoorlabs_intern berlin",
      "photoUrl": "https://lh3.googleusercontent.com/a/default-user=s64",
      "userId": "12453078597240373700"
     },
     "user_tz": -60
    },
    "id": "VRfFHNxgZvr5",
    "outputId": "8f7c2be3-e702-4119-8d06-53e48eacb566"
   },
   "outputs": [],
   "source": [
    "GT = list(map(imread,GT))\n",
    "Prediction = list(map(imread,Prediction))\n",
    "\n",
    "Segmse = []\n",
    "Segssim = []\n",
    "\n",
    "ssimcsvname = Results + \"/\" + \"Prediction_ssim\"    \n",
    "Segssimwriter = csv.writer(open(ssimcsvname + \".csv\", \"a\"))\n",
    "Segssimwriter.writerow([\"ssim\"])\n",
    "\n",
    "msecsvname = Results + \"/\" + \"Prediction_mse\"    \n",
    "Segmsewriter = csv.writer(open(msecsvname + \".csv\", \"a\"))\n",
    "Segmsewriter.writerow([\"mse\"])\n",
    "\n",
    "for i in range(len(Prediction)):\n",
    "    similaritymse = mse(MakeBinary(Prediction[i]),MakeBinary(GT[i]))\n",
    "    Segmse.append(similaritymse)\n",
    "\n",
    "    similarityssim = ssim(MakeBinary(Prediction[i]),MakeBinary(GT[i]))\n",
    "    Segssim.append(similarityssim) \n",
    "\n",
    "\n",
    "taus = [0.05,0.1, 0.2, 0.3, 0.4, 0.5, 0.6, 0.7, 0.8, 0.9]\n",
    "statsSeg = [matching_dataset(GT, Prediction, thresh=t, show_progress=False) for t in tqdm(taus)]    "
   ]
  },
  {
   "cell_type": "code",
   "execution_count": null,
   "metadata": {
    "colab": {
     "base_uri": "https://localhost:8080/",
     "height": 612
    },
    "executionInfo": {
     "elapsed": 4045,
     "status": "ok",
     "timestamp": 1647342793658,
     "user": {
      "displayName": "kapoorlabs_intern berlin",
      "photoUrl": "https://lh3.googleusercontent.com/a/default-user=s64",
      "userId": "12453078597240373700"
     },
     "user_tz": -60
    },
    "id": "HmslwMDvZv60",
    "outputId": "b7ae8c8e-cb05-4216-fe7c-cb0c8a6f4ebd"
   },
   "outputs": [],
   "source": [
    "fig, (ax1,ax2) = plt.subplots(1,2, figsize=(25,10))\n",
    "\n",
    "for m in ('precision', 'recall', 'accuracy', 'f1', 'mean_true_score', 'panoptic_quality'):\n",
    "    ax1.plot(taus, [s._asdict()[m] for s in statsSeg], '.-', lw=2, label=m)\n",
    "ax1.set_xlabel(r'IoU threshold $\\tau$')\n",
    "ax1.set_ylabel('Metric value')\n",
    "ax1.grid()\n",
    "ax1.legend()\n",
    "\n",
    "for m in ('fp', 'tp', 'fn'):\n",
    "    ax2.plot(taus, [s._asdict()[m] for s in statsSeg], '.-', lw=2, label=m)\n",
    "ax2.set_xlabel(r'IoU threshold $\\tau$')\n",
    "ax2.set_ylabel('Number #')\n",
    "ax2.grid()\n",
    "ax2.legend();\n",
    "plt.savefig(Results + model_name, dpi=300)\n"
   ]
  },
  {
   "cell_type": "code",
   "execution_count": null,
   "metadata": {
    "colab": {
     "base_uri": "https://localhost:8080/",
     "height": 268
    },
    "executionInfo": {
     "elapsed": 735,
     "status": "ok",
     "timestamp": 1647342794391,
     "user": {
      "displayName": "kapoorlabs_intern berlin",
      "photoUrl": "https://lh3.googleusercontent.com/a/default-user=s64",
      "userId": "12453078597240373700"
     },
     "user_tz": -60
    },
    "id": "fQGbB92yZwIb",
    "outputId": "1a7eec09-48e4-4f88-93d1-a5a3610e7817"
   },
   "outputs": [],
   "source": [
    "import pandas as pd\n",
    "df = pd.DataFrame(list(zip(Segmse)), index = None,\n",
    "                                              columns =[model_name])\n",
    "\n",
    "sns.set(style=\"whitegrid\")\n",
    "g = sns.violinplot(data=df, orient ='v')\n",
    "fig = g.get_figure()\n",
    "\n",
    "fig.savefig(Results  + model_name + 'mse' + \".png\", dpi=300)"
   ]
  },
  {
   "cell_type": "code",
   "execution_count": null,
   "metadata": {
    "colab": {
     "base_uri": "https://localhost:8080/",
     "height": 268
    },
    "executionInfo": {
     "elapsed": 593,
     "status": "ok",
     "timestamp": 1647342794981,
     "user": {
      "displayName": "kapoorlabs_intern berlin",
      "photoUrl": "https://lh3.googleusercontent.com/a/default-user=s64",
      "userId": "12453078597240373700"
     },
     "user_tz": -60
    },
    "id": "RrZ4xKkRaDDY",
    "outputId": "d1f8d878-0ec5-45ef-f125-185a7c5394b9"
   },
   "outputs": [],
   "source": [
    "df = pd.DataFrame(list(zip(Segssim)), index = None,\n",
    "                                              columns =[model_name])\n",
    "\n",
    "sns.set(style=\"whitegrid\")\n",
    "g = sns.violinplot(data=df, orient ='v')\n",
    "fig = g.get_figure()\n",
    "\n",
    "fig.savefig(Results  + model_name + 'ssim' + \".png\", dpi=300)"
   ]
  },
  {
   "cell_type": "code",
   "execution_count": null,
   "metadata": {
    "colab": {
     "base_uri": "https://localhost:8080/"
    },
    "executionInfo": {
     "elapsed": 96286,
     "status": "ok",
     "timestamp": 1647342891265,
     "user": {
      "displayName": "kapoorlabs_intern berlin",
      "photoUrl": "https://lh3.googleusercontent.com/a/default-user=s64",
      "userId": "12453078597240373700"
     },
     "user_tz": -60
    },
    "id": "YdTBV_1daIfU",
    "outputId": "c7a42884-05a9-40fe-d37b-38b2e9f71031"
   },
   "outputs": [],
   "source": [
    "GT = sorted(glob('Datasets/Ascadian3D/GT/*.tif'))\n",
    "Prediction = sorted(glob('Datasets/Ascadian3D/GuginardLabModel/BinaryMask/*.tif'))\n",
    "Results = 'Datasets/Ascadian3D/Metrics/'\n",
    "Path(Results).mkdir(exist_ok=True)\n",
    "model_name = 'UNETGuignardLabAscadianEmbryoModelHray'\n",
    "GT = list(map(imread,GT))\n",
    "Prediction = list(map(imread,Prediction))\n",
    "\n",
    "Segmse = []\n",
    "Segssim = []\n",
    "\n",
    "ssimcsvname = Results + \"/\" + \"Prediction_ssim\"    + model_name\n",
    "Segssimwriter = csv.writer(open(ssimcsvname + \".csv\", \"a\"))\n",
    "Segssimwriter.writerow([\"ssim\"])\n",
    "\n",
    "\n",
    "msecsvname = Results + \"/\" + \"Prediction_mse\"    + model_name\n",
    "Segmsewriter = csv.writer(open(msecsvname + \".csv\", \"a\"))\n",
    "Segmsewriter.writerow([\"mse\"])\n",
    "\n",
    "for i in range(len(Prediction)):\n",
    "    similaritymse = mse(MakeBinary(Prediction[i]),MakeBinary(GT[i]))\n",
    "    Segmse.append(similaritymse)\n",
    "\n",
    "    similarityssim = ssim(MakeBinary(Prediction[i]),MakeBinary(GT[i]))\n",
    "    Segssim.append(similarityssim) \n",
    "\n",
    "\n",
    "taus = [0.05,0.1, 0.2, 0.3, 0.4, 0.5, 0.6, 0.7, 0.8, 0.9]\n",
    "statsSeg = [matching_dataset(GT, Prediction, thresh=t, show_progress=False) for t in tqdm(taus)]    \n",
    "\n",
    "print(Segmse)"
   ]
  },
  {
   "cell_type": "code",
   "execution_count": null,
   "metadata": {
    "id": "GduFcxlMvSr3"
   },
   "outputs": [],
   "source": [
    "fig, (ax1,ax2) = plt.subplots(1,2, figsize=(25,10))\n",
    "\n",
    "for m in ('precision', 'recall', 'accuracy', 'f1', 'mean_true_score', 'panoptic_quality'):\n",
    "    ax1.plot(taus, [s._asdict()[m] for s in statsSeg], '.-', lw=2, label=m)\n",
    "ax1.set_xlabel(r'IoU threshold $\\tau$')\n",
    "ax1.set_ylabel('Metric value')\n",
    "ax1.grid()\n",
    "ax1.legend()\n",
    "\n",
    "for m in ('fp', 'tp', 'fn'):\n",
    "    ax2.plot(taus, [s._asdict()[m] for s in statsSeg], '.-', lw=2, label=m)\n",
    "ax2.set_xlabel(r'IoU threshold $\\tau$')\n",
    "ax2.set_ylabel('Number #')\n",
    "ax2.grid()\n",
    "ax2.legend();\n",
    "plt.savefig(Results + model_name, dpi=300)"
   ]
  },
  {
   "cell_type": "code",
   "execution_count": null,
   "metadata": {
    "id": "AFtvNf6gveiA"
   },
   "outputs": [],
   "source": [
    "GT = sorted(glob('Datasets/Ascadian3D/GT/*.tif'))\n",
    "Prediction = sorted(glob('Datasets/Ascadian3D/GuginardLabModel_full3D/BinaryMask/*.tif'))\n",
    "Results = 'Datasets/Ascadian3D/Metrics/'\n",
    "Path(Results).mkdir(exist_ok=True)\n",
    "model_name = 'UNETGuignardLabAscadianEmbryoModelHray_full3D'\n",
    "GT = list(map(imread,GT))\n",
    "Prediction = list(map(imread,Prediction))\n",
    "\n",
    "Segmse = []\n",
    "Segssim = []\n",
    "\n",
    "ssimcsvname = Results + \"/\" + \"Prediction_ssim\"    + model_name\n",
    "Segssimwriter = csv.writer(open(ssimcsvname + \".csv\", \"a\"))\n",
    "Segssimwriter.writerow([\"ssim\"])\n",
    "\n",
    "\n",
    "msecsvname = Results + \"/\" + \"Prediction_mse\"    + model_name\n",
    "Segmsewriter = csv.writer(open(msecsvname + \".csv\", \"a\"))\n",
    "Segmsewriter.writerow([\"mse\"])\n",
    "\n",
    "for i in range(len(Prediction)):\n",
    "    similaritymse = mse(MakeBinary(Prediction[i]),MakeBinary(GT[i]))\n",
    "    Segmse.append(similaritymse)\n",
    "\n",
    "    similarityssim = ssim(MakeBinary(Prediction[i]),MakeBinary(GT[i]))\n",
    "    Segssim.append(similarityssim) \n",
    "\n",
    "\n",
    "taus = [0.05,0.1, 0.2, 0.3, 0.4, 0.5, 0.6, 0.7, 0.8, 0.9]\n",
    "statsSeg = [matching_dataset(GT, Prediction, thresh=t, show_progress=False) for t in tqdm(taus)]    \n",
    "\n",
    "print(Segmse)"
   ]
  },
  {
   "cell_type": "code",
   "execution_count": null,
   "metadata": {
    "id": "bBhZtRkDaI4I"
   },
   "outputs": [],
   "source": [
    "fig, (ax1,ax2) = plt.subplots(1,2, figsize=(25,10))\n",
    "\n",
    "for m in ('precision', 'recall', 'accuracy', 'f1', 'mean_true_score', 'panoptic_quality'):\n",
    "    ax1.plot(taus, [s._asdict()[m] for s in statsSeg], '.-', lw=2, label=m)\n",
    "ax1.set_xlabel(r'IoU threshold $\\tau$')\n",
    "ax1.set_ylabel('Metric value')\n",
    "ax1.grid()\n",
    "ax1.legend()\n",
    "\n",
    "for m in ('fp', 'tp', 'fn'):\n",
    "    ax2.plot(taus, [s._asdict()[m] for s in statsSeg], '.-', lw=2, label=m)\n",
    "ax2.set_xlabel(r'IoU threshold $\\tau$')\n",
    "ax2.set_ylabel('Number #')\n",
    "ax2.grid()\n",
    "ax2.legend();\n",
    "plt.savefig(Results + model_name, dpi=300)"
   ]
  }
 ],
 "metadata": {
  "colab": {
   "collapsed_sections": [],
   "machine_shape": "hm",
   "name": "SegmentationMetrics.ipynb",
   "provenance": []
  },
  "kernelspec": {
   "display_name": "Python 3",
   "language": "python",
   "name": "python3"
  },
  "language_info": {
   "codemirror_mode": {
    "name": "ipython",
    "version": 3
   },
   "file_extension": ".py",
   "mimetype": "text/x-python",
   "name": "python",
   "nbconvert_exporter": "python",
   "pygments_lexer": "ipython3",
   "version": "3.10.11"
  }
 },
 "nbformat": 4,
 "nbformat_minor": 0
}